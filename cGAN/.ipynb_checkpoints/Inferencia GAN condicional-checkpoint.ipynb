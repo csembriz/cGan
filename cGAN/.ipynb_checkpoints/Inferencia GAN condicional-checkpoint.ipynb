{
 "cells": [
  {
   "cell_type": "code",
   "execution_count": null,
   "id": "3351fd2e",
   "metadata": {},
   "outputs": [],
   "source": [
    "# ejemplo de carga del modelo generador y generación de imágenes\n",
    "from numpy import asarray\n",
    "from numpy.random import randn\n",
    "from numpy.random import randint\n",
    "from keras.models import load_model\n",
    "from matplotlib import pyplot\n",
    "\n",
    "# generar puntos en el espacio latente como entrada para el generador\n",
    "def generate_latent_points(latent_dim, n_samples, n_classes=10):\n",
    "\t# genera puntos en el espacio latente\n",
    "\tx_input = randn(latent_dim * n_samples)\n",
    "\t# remodela un lote de entradas para la red\n",
    "\tz_input = x_input.reshape(n_samples, latent_dim)\n",
    "\t# genera etiquetas\n",
    "\tlabels = randint(0, n_classes, n_samples)\n",
    "\treturn [z_input, labels]\n",
    "\n",
    "# crear y guardar un gráfico de imágenes generadas\n",
    "def save_plot(examples, n):\n",
    "\t# trazo de imágenes\n",
    "\tfor i in range(n * n):\n",
    "\t\t# define subplot\n",
    "\t\tpyplot.subplot(n, n, 1 + i)\n",
    "\t\t# apagar el eje\n",
    "\t\tpyplot.axis('off')\n",
    "\t\t# trazar datos de píxeles sin procesar\n",
    "\t\tpyplot.imshow(examples[i, :, :, 0], cmap='gray_r')\n",
    "\tpyplot.show()\n",
    "\n",
    "# carga el modelo\n",
    "model = load_model('cgan_generator.h5')\n",
    "# genera imágenes\n",
    "latent_points, labels = generate_latent_points(100, 100)\n",
    "# especificar etiquetas\n",
    "labels = asarray([x for _ in range(10) for x in range(10)])\n",
    "# genera imágenes\n",
    "X  = model.predict([latent_points, labels])\n",
    "# escala de [-1,1] a [0,1]\n",
    "X = (X + 1) / 2.0\n",
    "# Traza los resultados\n",
    "save_plot(X, 10)"
   ]
  },
  {
   "cell_type": "code",
   "execution_count": null,
   "id": "27bf0dee",
   "metadata": {},
   "outputs": [],
   "source": []
  }
 ],
 "metadata": {
  "kernelspec": {
   "display_name": "Python 3 (ipykernel)",
   "language": "python",
   "name": "python3"
  },
  "language_info": {
   "codemirror_mode": {
    "name": "ipython",
    "version": 3
   },
   "file_extension": ".py",
   "mimetype": "text/x-python",
   "name": "python",
   "nbconvert_exporter": "python",
   "pygments_lexer": "ipython3",
   "version": "3.8.13"
  }
 },
 "nbformat": 4,
 "nbformat_minor": 5
}
